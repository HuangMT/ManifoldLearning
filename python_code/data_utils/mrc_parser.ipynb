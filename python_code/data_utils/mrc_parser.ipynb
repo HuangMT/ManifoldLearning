{
 "cells": [
  {
   "cell_type": "markdown",
   "metadata": {},
   "source": [
    "# definition of class MRC"
   ]
  },
  {
   "cell_type": "code",
   "execution_count": 1,
   "metadata": {},
   "outputs": [],
   "source": [
    "import numpy as np\n",
    "class MRC(object):\n",
    "    def __init__(self,file_path):\n",
    "        self.file_path = file_path\n",
    "        with open(self.file_path,'rb') as f:\n",
    "            self.nx = int.from_bytes(f.read(4),'little',signed=True) #number of columns (fastest changing in map)\n",
    "            self.ny = int.from_bytes(f.read(4),'little',signed=True) #number of rows \n",
    "            self.nz = int.from_bytes(f.read(4),'little',signed=True) #number of sections (slowest changing in map)\n",
    "            self.mode = int.from_bytes(f.read(4),'little',signed=True)\n",
    "            '''\n",
    "                MODE     data type :\n",
    "                0       image : signed 8-bit bytes range -128 to 127\n",
    "                1       image : 16-bit halfwords\n",
    "                2       image : 32-bit reals\n",
    "                3       transform : complex 16-bit integers\n",
    "                4       transform : complex 32-bit reals\n",
    "                6       image : unsigned 16-bit range 0 to 65535\n",
    "            '''\n",
    "            self.nxstart = int.from_bytes(f.read(4),'little',signed=True) #number of first column in map (Default = 0)\n",
    "            self.nystart = int.from_bytes(f.read(4),'little',signed=True) #number of first row in map\n",
    "            self.nzstart = int.from_bytes(f.read(4),'little',signed=True) #number of first section in map\n",
    "            self.mx = int.from_bytes(f.read(4),'little',signed=True) #number of intervals along X\n",
    "            self.my = int.from_bytes(f.read(4),'little',signed=True) #number of intervals along Y\n",
    "            self.mz = int.from_bytes(f.read(4),'little',signed=True) #number of intervals along Z\n",
    "            self.cella = np.frombuffer(f.read(12),dtype=np.float32) #cell dimensions in angstroms\n",
    "            self.cellb = np.frombuffer(f.read(12),dtype=np.float32) #cell angles in degrees\n",
    "            self.mapc = int.from_bytes(f.read(4),'little',signed=True) #axis corresp to cols (1,2,3 for X,Y,Z)\n",
    "            self.mapr = int.from_bytes(f.read(4),'little',signed=True) #axis corresp to rows (1,2,3 for X,Y,Z)\n",
    "            self.maps = int.from_bytes(f.read(4),'little',signed=True) #axis corresp to sections (1,2,3 for X,Y,Z)\n",
    "            self.dmin = np.frombuffer(f.read(4),dtype=np.float32) #minimum density value\n",
    "            self.dmax = np.frombuffer(f.read(4),dtype=np.float32) #maximum density value\n",
    "            self.dmean = np.frombuffer(f.read(4),dtype=np.float32) #mean density value\n",
    "            self.ispg = int.from_bytes(f.read(4),'little',signed=True) #space group number 0 or 1 (default=0)\n",
    "            self.nsymbt = int.from_bytes(f.read(4),'little',signed=True) #number of bytes used for symmetry data (0 or 80)\n",
    "            f.read(100) #self.preserve = f.read(100)\n",
    "            self.origin = np.frombuffer(f.read(12),dtype=np.float32) #origin in X,Y,Z used for transforms\n",
    "            self.map = str(f.read(4)) #character string 'MAP ' to identify file type\n",
    "            self.machst = int.from_bytes(f.read(4),'little',signed=True) #machine stamp\n",
    "            self.rms = np.frombuffer(f.read(4),dtype=np.float32) #rms deviation of map from mean density\n",
    "            self.nlabels = int.from_bytes(f.read(4),'little',signed=True) #number of labels being used\n",
    "            #self.label = np.frombuffer(f.read(4*10*80),dtype=np.float32).reshape(10,80)\n",
    "\n",
    "    def load(self):\n",
    "        type_dict = {0:[1,np.int8],1:[2,np.int16],2:[4,np.float32]}\n",
    "        if not self.mode in type_dict:\n",
    "            print('unsupport mode now')\n",
    "            return\n",
    "        with open(self.file_path,'rb') as f:\n",
    "            f.seek(1024)\n",
    "            total_size = self.nx*self.ny*self.nz\n",
    "            self.data = np.frombuffer(f.read(type_dict[self.mode][0]*total_size),dtype=type_dict[self.mode][1]).reshape(self.nx,self.ny,self.nz)\n",
    "            \n",
    "    def show_msg(self):\n",
    "        for para in vars(self):\n",
    "            print(\"%-9s:\"%para,self.__dict__[para])"
   ]
  },
  {
   "cell_type": "markdown",
   "metadata": {},
   "source": [
    "# demo"
   ]
  },
  {
   "cell_type": "code",
   "execution_count": 2,
   "metadata": {},
   "outputs": [],
   "source": [
    "import cv2\n",
    "import matplotlib.pyplot as plt\n",
    "%matplotlib inline"
   ]
  },
  {
   "cell_type": "code",
   "execution_count": 3,
   "metadata": {},
   "outputs": [
    {
     "name": "stdout",
     "output_type": "stream",
     "text": [
      "file_path: ball.mrc\n",
      "nx       : 65\n",
      "ny       : 65\n",
      "nz       : 65\n",
      "mode     : 2\n",
      "nxstart  : -32\n",
      "nystart  : -32\n",
      "nzstart  : -32\n",
      "mx       : 65\n",
      "my       : 65\n",
      "mz       : 65\n",
      "cella    : [65. 65. 65.]\n",
      "cellb    : [90. 90. 90.]\n",
      "mapc     : 1\n",
      "mapr     : 2\n",
      "maps     : 3\n",
      "dmin     : [0.]\n",
      "dmax     : [1.0002468]\n",
      "dmean    : [0.00230697]\n",
      "ispg     : 0\n",
      "nsymbt   : 0\n",
      "origin   : [0. 0. 0.]\n",
      "map      : b'MAP '\n",
      "machst   : 16708\n",
      "rms      : [0.02862644]\n",
      "nlabels  : 0\n"
     ]
    }
   ],
   "source": [
    "ball = MRC('ball.mrc')\n",
    "ball.show_msg()\n",
    "ball.load()"
   ]
  },
  {
   "cell_type": "code",
   "execution_count": 4,
   "metadata": {},
   "outputs": [
    {
     "data": {
      "text/plain": [
       "<matplotlib.image.AxesImage at 0x7f8355de1390>"
      ]
     },
     "execution_count": 4,
     "metadata": {},
     "output_type": "execute_result"
    },
    {
     "data": {
      "image/png": "[encoded data removed]",
      "text/plain": [
       "<Figure size 432x288 with 9 Axes>"
      ]
     },
     "metadata": {},
     "output_type": "display_data"
    }
   ],
   "source": [
    "\n",
    "plt.subplot(331),plt.axis('off')\n",
    "plt.imshow(ball.data[10,:,:])\n",
    "plt.subplot(332),plt.axis('off')\n",
    "plt.imshow(ball.data[15,:,:])\n",
    "plt.subplot(333),plt.axis('off')\n",
    "plt.imshow(ball.data[20,:,:])\n",
    "plt.subplot(334),plt.axis('off')\n",
    "plt.imshow(ball.data[25,:,:])\n",
    "plt.subplot(335),plt.axis('off')\n",
    "plt.imshow(ball.data[30,:,:])\n",
    "plt.subplot(336),plt.axis('off')\n",
    "plt.imshow(ball.data[35,:,:])\n",
    "plt.subplot(337),plt.axis('off')\n",
    "plt.imshow(ball.data[40,:,:])\n",
    "plt.subplot(338),plt.axis('off')\n",
    "plt.imshow(ball.data[45,:,:])\n",
    "plt.subplot(339),plt.axis('off')\n",
    "plt.imshow(ball.data[50,:,:])\n"
   ]
  },
  {
   "cell_type": "code",
   "execution_count": null,
   "metadata": {},
   "outputs": [],
   "source": []
  },
  {
   "cell_type": "code",
   "execution_count": null,
   "metadata": {},
   "outputs": [],
   "source": []
  },
  {
   "cell_type": "code",
   "execution_count": null,
   "metadata": {},
   "outputs": [],
   "source": []
  },
  {
   "cell_type": "code",
   "execution_count": null,
   "metadata": {},
   "outputs": [],
   "source": []
  },
  {
   "cell_type": "code",
   "execution_count": null,
   "metadata": {},
   "outputs": [],
   "source": []
  }
 ],
 "metadata": {
  "kernelspec": {
   "display_name": "TFkernel",
   "language": "python",
   "name": "tfkernel"
  },
  "language_info": {
   "codemirror_mode": {
    "name": "ipython",
    "version": 3
   },
   "file_extension": ".py",
   "mimetype": "text/x-python",
   "name": "python",
   "nbconvert_exporter": "python",
   "pygments_lexer": "ipython3",
   "version": "3.6.6"
  },
  "toc": {
   "base_numbering": 1,
   "nav_menu": {},
   "number_sections": true,
   "sideBar": true,
   "skip_h1_title": false,
   "title_cell": "Table of Contents",
   "title_sidebar": "Contents",
   "toc_cell": false,
   "toc_position": {},
   "toc_section_display": true,
   "toc_window_display": false
  }
 },
 "nbformat": 4,
 "nbformat_minor": 2
}
